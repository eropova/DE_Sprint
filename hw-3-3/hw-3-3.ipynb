{
 "cells": [
  {
   "cell_type": "code",
   "execution_count": 1,
   "id": "0a1503a1",
   "metadata": {},
   "outputs": [],
   "source": [
    "from pyspark.sql import SparkSession\n",
    "from pyspark.sql.types import *\n",
    "from pyspark.sql.functions import *\n",
    "# import pyspark.sql as ps"
   ]
  },
  {
   "cell_type": "code",
   "execution_count": 2,
   "id": "ac8d8825",
   "metadata": {},
   "outputs": [
    {
     "name": "stderr",
     "output_type": "stream",
     "text": [
      "22/12/06 11:27:22 WARN NativeCodeLoader: Unable to load native-hadoop library for your platform... using builtin-java classes where applicable\n",
      "Using Spark's default log4j profile: org/apache/spark/log4j-defaults.properties\n",
      "Setting default log level to \"WARN\".\n",
      "To adjust logging level use sc.setLogLevel(newLevel). For SparkR, use setLogLevel(newLevel).\n"
     ]
    }
   ],
   "source": [
    "spark = SparkSession.builder.master('local').appName(\"hw33\").config('spark.driver.bindAddress', 'localhost').config('spark.ui.port', '4040').getOrCreate()"
   ]
  },
  {
   "cell_type": "markdown",
   "id": "79c6ea47",
   "metadata": {},
   "source": [
    " Создайте схему будущего фрейма данных. Схема должна включать следующие атрибуты:\n",
    "\n",
    "·   id -  уникальный идентификатор посетителя сайта. Тип – последовательность чисел фиксированной длины. Данное поле не является первичным ключом.\n",
    "\n",
    "·   timestamp – дата и время события в формате unix timestamp.\n",
    "\n",
    "·   type – тип события, значение из списка (факт посещения(visit), клик по визуальному элементу страницы(click), скролл(scroll), перед на другую страницу(move)).\n",
    "\n",
    "·   page_id – id текущей страницы. Тип - последовательность чисел фиксированной длины.\n",
    "\n",
    "·   tag – каждая страница с новостью размечается редакцией специальными тегами, которые отражают тематику конкретной новости со страницы. Возможный список тематик: политика, спорт, медицина и т.д.\n",
    "\n",
    "·   sign – наличие у пользователя личного кабинета. Значения – True/False."
   ]
  },
  {
   "cell_type": "markdown",
   "id": "ea7ccd8d",
   "metadata": {},
   "source": [
    "### Создание схемы DF"
   ]
  },
  {
   "cell_type": "code",
   "execution_count": 3,
   "id": "8eb000e9",
   "metadata": {},
   "outputs": [],
   "source": [
    "schema = StructType([\n",
    "    StructField('id', IntegerType(), True),\n",
    "    StructField('timestamp', StringType(), True),\n",
    "    StructField('type', StringType(), True), \n",
    "    StructField('page_id', IntegerType(), True),\n",
    "    StructField('tag', StringType(), True),\n",
    "    StructField('sign', BooleanType(), True),\n",
    "])"
   ]
  },
  {
   "cell_type": "markdown",
   "id": "69af9ea4",
   "metadata": {},
   "source": [
    "Создайте датафрейм с описанной выше схемой данных."
   ]
  },
  {
   "cell_type": "markdown",
   "id": "34965e0f",
   "metadata": {},
   "source": [
    "Наполните датафрейм данными. Пример:\n",
    "\n",
    "(12345, 1667627426, \"click\", 101, \"Sport”, False)"
   ]
  },
  {
   "cell_type": "markdown",
   "id": "68bc63dc",
   "metadata": {},
   "source": [
    "### Наполнение DF"
   ]
  },
  {
   "cell_type": "code",
   "execution_count": 4,
   "id": "b0db9c7e",
   "metadata": {},
   "outputs": [],
   "source": [
    "data = [\n",
    "    (45445, 1670198400, \"visit\", 565, 'Sport', False),\n",
    "    (45445, 1670198600, \"click\", 565, 'Sport', False),\n",
    "    (45445, 1670191400, \"move\", 100, 'IT', False),\n",
    "    (45445, 1670128400, \"scroll\", 99, 'IT', False),\n",
    "    (45445, 1670298400, \"visit\", 2, 'Music', False),\n",
    "    \n",
    "    (12587, 1670140800, \"visit\", 178, 'Art', True),\n",
    "    (12587, 1670140804, \"click\", 178, 'Art', True),\n",
    "    (12587, 1670140812, \"click\", 178, 'Art', True),\n",
    "    (12587, 1670140813, \"scroll\", 178, 'Art', True),\n",
    "    (12587, 1670140815, \"scroll\", 178, 'Art', True),\n",
    "    \n",
    "    (68851, 1669893060, \"visit\", 222, 'Music', False),\n",
    "    (32856, 1659893060, \"visit\", 565, 'Sport', False),\n",
    "    (9547, 1659893060, \"visit\", 331, 'Politics', False),\n",
    "    \n",
    "    (58741, 1669633860, \"visit\", 565, 'Sport', True),\n",
    "    (58741, 1669633861, \"move\", 222, 'Music', True),\n",
    "    \n",
    "    (74859, 1670077320, \"visit\", 100, 'IT', False),\n",
    "    (74859, 1670077360, \"click\", 100, 'IT', False),\n",
    "    (74859, 1670077361, \"move\", 565, 'Sport', False),\n",
    "    (74859, 1670077373, \"scroll\", 565, 'Sport', False),\n",
    "    (74859, 1670077790, \"move\", 331, 'Politics', False),\n",
    "]"
   ]
  },
  {
   "cell_type": "markdown",
   "id": "c1ebe768",
   "metadata": {},
   "source": [
    "### Создание, отображение DF"
   ]
  },
  {
   "cell_type": "code",
   "execution_count": 5,
   "id": "c94218eb",
   "metadata": {},
   "outputs": [],
   "source": [
    "df = spark.createDataFrame(data=data,schema=schema)"
   ]
  },
  {
   "cell_type": "code",
   "execution_count": 6,
   "id": "814ffd95",
   "metadata": {},
   "outputs": [
    {
     "name": "stderr",
     "output_type": "stream",
     "text": [
      "[Stage 0:>                                                          (0 + 1) / 1]\r"
     ]
    },
    {
     "name": "stdout",
     "output_type": "stream",
     "text": [
      "+-----+----------+------+-------+--------+-----+\n",
      "|   id| timestamp|  type|page_id|     tag| sign|\n",
      "+-----+----------+------+-------+--------+-----+\n",
      "|45445|1670198400| visit|    565|   Sport|false|\n",
      "|45445|1670198600| click|    565|   Sport|false|\n",
      "|45445|1670191400|  move|    100|      IT|false|\n",
      "|45445|1670128400|scroll|     99|      IT|false|\n",
      "|45445|1670298400| visit|      2|   Music|false|\n",
      "|12587|1670140800| visit|    178|     Art| true|\n",
      "|12587|1670140804| click|    178|     Art| true|\n",
      "|12587|1670140812| click|    178|     Art| true|\n",
      "|12587|1670140813|scroll|    178|     Art| true|\n",
      "|12587|1670140815|scroll|    178|     Art| true|\n",
      "|68851|1669893060| visit|    222|   Music|false|\n",
      "|32856|1659893060| visit|    565|   Sport|false|\n",
      "| 9547|1659893060| visit|    331|Politics|false|\n",
      "|58741|1669633860| visit|    565|   Sport| true|\n",
      "|58741|1669633861|  move|    222|   Music| true|\n",
      "|74859|1670077320| visit|    100|      IT|false|\n",
      "|74859|1670077360| click|    100|      IT|false|\n",
      "|74859|1670077361|  move|    565|   Sport|false|\n",
      "|74859|1670077373|scroll|    565|   Sport|false|\n",
      "|74859|1670077790|  move|    331|Politics|false|\n",
      "+-----+----------+------+-------+--------+-----+\n",
      "\n"
     ]
    },
    {
     "name": "stderr",
     "output_type": "stream",
     "text": [
      "                                                                                \r"
     ]
    }
   ],
   "source": [
    "df.show()"
   ]
  },
  {
   "cell_type": "markdown",
   "id": "989b28ed",
   "metadata": {},
   "source": [
    "### Отображение схемы DF"
   ]
  },
  {
   "cell_type": "code",
   "execution_count": 7,
   "id": "8e079a5d",
   "metadata": {},
   "outputs": [
    {
     "name": "stdout",
     "output_type": "stream",
     "text": [
      "root\n",
      " |-- id: integer (nullable = true)\n",
      " |-- timestamp: string (nullable = true)\n",
      " |-- type: string (nullable = true)\n",
      " |-- page_id: integer (nullable = true)\n",
      " |-- tag: string (nullable = true)\n",
      " |-- sign: boolean (nullable = true)\n",
      "\n"
     ]
    }
   ],
   "source": [
    "df.printSchema()"
   ]
  },
  {
   "cell_type": "markdown",
   "id": "9e0dc59b",
   "metadata": {},
   "source": [
    "### Приведение к timestamp "
   ]
  },
  {
   "cell_type": "code",
   "execution_count": 8,
   "id": "78977a9c",
   "metadata": {},
   "outputs": [],
   "source": [
    "df = df.select(df.columns).withColumnRenamed('timestamp', 'unix_time')\n",
    "\n",
    "df = df.select(* df.columns).withColumn('timestamp',from_unixtime(col(\"unix_time\"),\"yyyy-MM-dd HH:mm:ss\"))"
   ]
  },
  {
   "cell_type": "code",
   "execution_count": 9,
   "id": "0b37c66a",
   "metadata": {},
   "outputs": [
    {
     "name": "stdout",
     "output_type": "stream",
     "text": [
      "+-----+----------+------+-------+-----+-----+-------------------+\n",
      "|   id| unix_time|  type|page_id|  tag| sign|          timestamp|\n",
      "+-----+----------+------+-------+-----+-----+-------------------+\n",
      "|45445|1670198400| visit|    565|Sport|false|2022-12-05 00:00:00|\n",
      "|45445|1670198600| click|    565|Sport|false|2022-12-05 00:03:20|\n",
      "|45445|1670191400|  move|    100|   IT|false|2022-12-04 22:03:20|\n",
      "|45445|1670128400|scroll|     99|   IT|false|2022-12-04 04:33:20|\n",
      "|45445|1670298400| visit|      2|Music|false|2022-12-06 03:46:40|\n",
      "+-----+----------+------+-------+-----+-----+-------------------+\n",
      "only showing top 5 rows\n",
      "\n"
     ]
    }
   ],
   "source": [
    "df.show(5)"
   ]
  },
  {
   "cell_type": "markdown",
   "id": "5939fbe8",
   "metadata": {},
   "source": [
    "**Решите следующие задачи:**"
   ]
  },
  {
   "cell_type": "markdown",
   "id": "985aba02",
   "metadata": {},
   "source": [
    "·   Вывести топ-5 самых активных посетителей сайта"
   ]
  },
  {
   "cell_type": "code",
   "execution_count": 10,
   "id": "6378492d",
   "metadata": {},
   "outputs": [
    {
     "name": "stderr",
     "output_type": "stream",
     "text": [
      "[Stage 3:================================================>      (176 + 1) / 200]\r"
     ]
    },
    {
     "name": "stdout",
     "output_type": "stream",
     "text": [
      "+-----+-----+\n",
      "|   id|count|\n",
      "+-----+-----+\n",
      "|12587|    5|\n",
      "|45445|    5|\n",
      "|74859|    5|\n",
      "|58741|    2|\n",
      "|32856|    1|\n",
      "+-----+-----+\n",
      "only showing top 5 rows\n",
      "\n"
     ]
    },
    {
     "name": "stderr",
     "output_type": "stream",
     "text": [
      "                                                                                \r"
     ]
    }
   ],
   "source": [
    "df.groupby(\"id\").count().orderBy(desc(\"count\")).show(5)"
   ]
  },
  {
   "cell_type": "markdown",
   "id": "f10fdc75",
   "metadata": {},
   "source": [
    "·   Посчитать процент посетителей, у которых есть ЛК"
   ]
  },
  {
   "cell_type": "code",
   "execution_count": null,
   "id": "7eed41f6",
   "metadata": {},
   "outputs": [],
   "source": []
  },
  {
   "cell_type": "code",
   "execution_count": 11,
   "id": "81650417",
   "metadata": {},
   "outputs": [
    {
     "name": "stderr",
     "output_type": "stream",
     "text": [
      "                                                                                \r"
     ]
    },
    {
     "data": {
      "text/plain": [
       "\"There are 2 users with personal acconts. It's 28 % from total amount of users.\""
      ]
     },
     "execution_count": 11,
     "metadata": {},
     "output_type": "execute_result"
    }
   ],
   "source": [
    "num_with_acc = df.filter(df.sign == True).groupby(\"id\").count().distinct().count()\n",
    "share_with_acc = int(df.filter(df.sign == True).groupby(\"id\").count().distinct().count() / df.groupby(\"id\").count().distinct().count()*100)\n",
    "\n",
    "f\"There are {num_with_acc} users with personal acconts. It's {share_with_acc} % from total amount of users.\""
   ]
  },
  {
   "cell_type": "code",
   "execution_count": null,
   "id": "6a2756d8",
   "metadata": {},
   "outputs": [],
   "source": []
  },
  {
   "cell_type": "markdown",
   "id": "74e8d57b",
   "metadata": {},
   "source": [
    "·   Вывести топ-5 страниц сайта по показателю общего кол-ва кликов на данной странице"
   ]
  },
  {
   "cell_type": "code",
   "execution_count": 12,
   "id": "6d8eef4b",
   "metadata": {},
   "outputs": [
    {
     "name": "stderr",
     "output_type": "stream",
     "text": [
      "[Stage 14:=========================================>            (153 + 2) / 200]\r"
     ]
    },
    {
     "name": "stdout",
     "output_type": "stream",
     "text": [
      "+-------+-----+\n",
      "|page_id|count|\n",
      "+-------+-----+\n",
      "|    178|    2|\n",
      "|    100|    1|\n",
      "|    565|    1|\n",
      "+-------+-----+\n",
      "\n"
     ]
    },
    {
     "name": "stderr",
     "output_type": "stream",
     "text": [
      "                                                                                \r"
     ]
    }
   ],
   "source": [
    "df.filter(df.type == \"click\").groupby(\"page_id\").count().orderBy(\"count\", ascending = False).show(5)"
   ]
  },
  {
   "cell_type": "markdown",
   "id": "1784a763",
   "metadata": {},
   "source": [
    "·   Добавьте столбец к фрейму данных со значением временного диапазона в рамках суток с размером окна – 4 часа(0-4, 4-8, 8-12 и т.д.)"
   ]
  },
  {
   "cell_type": "code",
   "execution_count": 13,
   "id": "1ed846b2",
   "metadata": {},
   "outputs": [
    {
     "name": "stdout",
     "output_type": "stream",
     "text": [
      "+-----+----------+------+-------+-----+-----+-------------------+----------+\n",
      "|   id| unix_time|  type|page_id|  tag| sign|          timestamp|time_range|\n",
      "+-----+----------+------+-------+-----+-----+-------------------+----------+\n",
      "|45445|1670198400| visit|    565|Sport|false|2022-12-05 00:00:00|       0.0|\n",
      "|45445|1670198600| click|    565|Sport|false|2022-12-05 00:03:20|       0.0|\n",
      "|45445|1670191400|  move|    100|   IT|false|2022-12-04 22:03:20|       6.0|\n",
      "|45445|1670128400|scroll|     99|   IT|false|2022-12-04 04:33:20|       1.0|\n",
      "|45445|1670298400| visit|      2|Music|false|2022-12-06 03:46:40|       1.0|\n",
      "+-----+----------+------+-------+-----+-----+-------------------+----------+\n",
      "only showing top 5 rows\n",
      "\n"
     ]
    }
   ],
   "source": [
    "df_with_time_range = df.withColumn(\"time_range\", round(hour(\"timestamp\")/4))\n",
    "df_with_time_range.show(5)"
   ]
  },
  {
   "cell_type": "markdown",
   "id": "df1dd71f",
   "metadata": {},
   "source": [
    "·   Выведите временной промежуток на основе предыдущего задания, в течение которого было больше всего активностей на сайте."
   ]
  },
  {
   "cell_type": "code",
   "execution_count": 14,
   "id": "25becf22",
   "metadata": {},
   "outputs": [
    {
     "name": "stderr",
     "output_type": "stream",
     "text": [
      "[Stage 17:========================================>             (150 + 1) / 200]\r"
     ]
    },
    {
     "name": "stdout",
     "output_type": "stream",
     "text": [
      "+----------+-----+\n",
      "|time_range|count|\n",
      "+----------+-----+\n",
      "|       4.0|    7|\n",
      "+----------+-----+\n",
      "only showing top 1 row\n",
      "\n"
     ]
    },
    {
     "name": "stderr",
     "output_type": "stream",
     "text": [
      "                                                                                \r"
     ]
    }
   ],
   "source": [
    "df_with_time_range.groupby(\"time_range\").count().orderBy(\"count\", ascending = False).show(1)"
   ]
  },
  {
   "cell_type": "markdown",
   "id": "3186afef",
   "metadata": {},
   "source": [
    "·   Создайте второй фрейм данных, который будет содержать информацию о ЛК посетителя сайта со следующим списком атрибутов\n",
    "\n",
    "1. Id – уникальный идентификатор личного кабинета\n",
    "\n",
    "2. User_id – уникальный идентификатор посетителя\n",
    "\n",
    "3. ФИО посетителя\n",
    "\n",
    "4. Дату рождения посетителя \n",
    "\n",
    "5. Дата создания ЛК"
   ]
  },
  {
   "cell_type": "markdown",
   "id": "dad69db3",
   "metadata": {},
   "source": [
    "### Создание схемы DF личных кабинетов пользователей"
   ]
  },
  {
   "cell_type": "code",
   "execution_count": 15,
   "id": "47cb9418",
   "metadata": {},
   "outputs": [],
   "source": [
    "schema_users = StructType([\n",
    "    StructField('id', IntegerType(), True),\n",
    "    StructField('User_id', IntegerType(), True),\n",
    "    StructField('name', StringType(), True), \n",
    "    StructField('dob', StringType(), True),\n",
    "    StructField('date_create', StringType(), True),\n",
    "])"
   ]
  },
  {
   "cell_type": "code",
   "execution_count": null,
   "id": "8588a95b",
   "metadata": {},
   "outputs": [],
   "source": []
  },
  {
   "cell_type": "markdown",
   "id": "3ff4eea3",
   "metadata": {},
   "source": [
    "### Наполнение DF личных кабинетов пользователей"
   ]
  },
  {
   "cell_type": "code",
   "execution_count": 16,
   "id": "08b354ac",
   "metadata": {},
   "outputs": [],
   "source": [
    "data_users = [\n",
    "    (778, 12587, \"Grey Wolf\", \"881864520\",\"1670077790\"),\n",
    "    (112, 58741, \"White Rabbit\", \"661122060\", \"1575697560\"),\n",
    "    (11251, 866124, \"Brown Bear\", \"251129640\", \"1638745140\"),\n",
    "    (13218, 89882, \"Red Fox\", \"944921640\", \"1638745140\")\n",
    "]"
   ]
  },
  {
   "cell_type": "markdown",
   "id": "c38fe8c3",
   "metadata": {},
   "source": [
    "### Создание DF личных кабинетов пользователей"
   ]
  },
  {
   "cell_type": "code",
   "execution_count": 17,
   "id": "983fa3c5",
   "metadata": {},
   "outputs": [],
   "source": [
    "df_users = spark.createDataFrame(data=data_users,schema=schema_users)"
   ]
  },
  {
   "cell_type": "code",
   "execution_count": 18,
   "id": "892a7ab6",
   "metadata": {},
   "outputs": [
    {
     "name": "stdout",
     "output_type": "stream",
     "text": [
      "+-----+-------+------------+---------+-----------+\n",
      "|   id|User_id|        name|      dob|date_create|\n",
      "+-----+-------+------------+---------+-----------+\n",
      "|  778|  12587|   Grey Wolf|881864520| 1670077790|\n",
      "|  112|  58741|White Rabbit|661122060| 1575697560|\n",
      "|11251| 866124|  Brown Bear|251129640| 1638745140|\n",
      "|13218|  89882|     Red Fox|944921640| 1638745140|\n",
      "+-----+-------+------------+---------+-----------+\n",
      "\n"
     ]
    }
   ],
   "source": [
    "df_users.show()"
   ]
  },
  {
   "cell_type": "markdown",
   "id": "11a49b9e",
   "metadata": {},
   "source": [
    "Вывести фамилии посетителей, которые читали хотя бы одну новость про спорт."
   ]
  },
  {
   "cell_type": "code",
   "execution_count": 19,
   "id": "2b86a8f3",
   "metadata": {},
   "outputs": [
    {
     "name": "stderr",
     "output_type": "stream",
     "text": [
      "                                                                                \r"
     ]
    },
    {
     "name": "stdout",
     "output_type": "stream",
     "text": [
      "+---+-------+------------+---------+-----------+-----+----------+------+-------+-----+----+-------------------+----------+\n",
      "| id|User_id|        name|      dob|date_create|   id| unix_time|  type|page_id|  tag|sign|          timestamp|time_range|\n",
      "+---+-------+------------+---------+-----------+-----+----------+------+-------+-----+----+-------------------+----------+\n",
      "|778|  12587|   Grey Wolf|881864520| 1670077790|12587|1670140800| visit|    178|  Art|true|2022-12-04 08:00:00|       2.0|\n",
      "|778|  12587|   Grey Wolf|881864520| 1670077790|12587|1670140804| click|    178|  Art|true|2022-12-04 08:00:04|       2.0|\n",
      "|778|  12587|   Grey Wolf|881864520| 1670077790|12587|1670140812| click|    178|  Art|true|2022-12-04 08:00:12|       2.0|\n",
      "|778|  12587|   Grey Wolf|881864520| 1670077790|12587|1670140813|scroll|    178|  Art|true|2022-12-04 08:00:13|       2.0|\n",
      "|778|  12587|   Grey Wolf|881864520| 1670077790|12587|1670140815|scroll|    178|  Art|true|2022-12-04 08:00:15|       2.0|\n",
      "|112|  58741|White Rabbit|661122060| 1575697560|58741|1669633860| visit|    565|Sport|true|2022-11-28 11:11:00|       3.0|\n",
      "|112|  58741|White Rabbit|661122060| 1575697560|58741|1669633861|  move|    222|Music|true|2022-11-28 11:11:01|       3.0|\n",
      "+---+-------+------------+---------+-----------+-----+----------+------+-------+-----+----+-------------------+----------+\n",
      "\n"
     ]
    }
   ],
   "source": [
    "#объединим два DF с личными кабинетами и статистикой действий и выведем новый DF\n",
    "df_unit = df_users.select(df_users.columns)\n",
    "df_unit =  df_unit.join(df_with_time_range, df_unit.User_id == df_with_time_range.id)\n",
    "df_unit.show()"
   ]
  },
  {
   "cell_type": "code",
   "execution_count": 20,
   "id": "3990c523",
   "metadata": {},
   "outputs": [
    {
     "name": "stderr",
     "output_type": "stream",
     "text": [
      "                                                                                \r"
     ]
    },
    {
     "name": "stdout",
     "output_type": "stream",
     "text": [
      "+------------+\n",
      "|        name|\n",
      "+------------+\n",
      "|White Rabbit|\n",
      "+------------+\n",
      "\n"
     ]
    }
   ],
   "source": [
    "df_unit.filter(df_unit.tag == \"Sport\").select(\"name\").show()"
   ]
  }
 ],
 "metadata": {
  "kernelspec": {
   "display_name": "Python 3 (ipykernel)",
   "language": "python",
   "name": "python3"
  },
  "language_info": {
   "codemirror_mode": {
    "name": "ipython",
    "version": 3
   },
   "file_extension": ".py",
   "mimetype": "text/x-python",
   "name": "python",
   "nbconvert_exporter": "python",
   "pygments_lexer": "ipython3",
   "version": "3.9.5"
  }
 },
 "nbformat": 4,
 "nbformat_minor": 5
}
