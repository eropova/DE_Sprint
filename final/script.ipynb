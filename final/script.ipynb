{
 "cells": [
  {
   "cell_type": "markdown",
   "id": "cbb6979b-7dc3-4e48-ade5-5d23a5f062fb",
   "metadata": {},
   "source": [
    "## Проект \"Поездки на такси в Нью-Йорке\""
   ]
  },
  {
   "cell_type": "markdown",
   "id": "c32dbcac-51af-415f-9801-094448772e16",
   "metadata": {},
   "source": [
    "### Цель проекта:  \n",
    "- рассчитать процент поездок по каждому дню в зависимости от числа пассажиров (в разрез 1, 2, 3, 4 и более человек) \n",
    "- проанализировать зависимость размера чаевых от числа пассажиров и дальности поездки"
   ]
  },
  {
   "cell_type": "markdown",
   "id": "1b837e5b-f153-4388-a59c-bcdd0356271b",
   "metadata": {},
   "source": [
    "### Загрузка и изучение исходных данных "
   ]
  },
  {
   "cell_type": "code",
   "execution_count": 1,
   "id": "35f23364-4db1-4393-b796-dc0cd865daac",
   "metadata": {},
   "outputs": [],
   "source": [
    "import pandas as pd\n",
    "import datetime as dt\n",
    "import numpy as np\n",
    "import matplotlib.pyplot as plt\n",
    "import seaborn as sns"
   ]
  },
  {
   "cell_type": "code",
   "execution_count": 2,
   "id": "ab04638a-6396-40a0-8f73-acf84b4c4bb0",
   "metadata": {},
   "outputs": [],
   "source": [
    "%matplotlib inline"
   ]
  },
  {
   "cell_type": "code",
   "execution_count": 3,
   "id": "851f9be3-399d-4b79-b420-5f8774c8df9d",
   "metadata": {},
   "outputs": [],
   "source": [
    "# %%timeit\n",
    "df = pd.read_csv('./data/yellow_tripdata_2020-01.csv', sep=',', low_memory=False)"
   ]
  },
  {
   "cell_type": "code",
   "execution_count": 4,
   "id": "b9775799-29b5-49a2-bdd0-c7ff02be88c0",
   "metadata": {},
   "outputs": [
    {
     "data": {
      "text/html": [
       "<div>\n",
       "<style scoped>\n",
       "    .dataframe tbody tr th:only-of-type {\n",
       "        vertical-align: middle;\n",
       "    }\n",
       "\n",
       "    .dataframe tbody tr th {\n",
       "        vertical-align: top;\n",
       "    }\n",
       "\n",
       "    .dataframe thead th {\n",
       "        text-align: right;\n",
       "    }\n",
       "</style>\n",
       "<table border=\"1\" class=\"dataframe\">\n",
       "  <thead>\n",
       "    <tr style=\"text-align: right;\">\n",
       "      <th></th>\n",
       "      <th>VendorID</th>\n",
       "      <th>tpep_pickup_datetime</th>\n",
       "      <th>tpep_dropoff_datetime</th>\n",
       "      <th>passenger_count</th>\n",
       "      <th>trip_distance</th>\n",
       "      <th>RatecodeID</th>\n",
       "      <th>store_and_fwd_flag</th>\n",
       "      <th>PULocationID</th>\n",
       "      <th>DOLocationID</th>\n",
       "      <th>payment_type</th>\n",
       "      <th>fare_amount</th>\n",
       "      <th>extra</th>\n",
       "      <th>mta_tax</th>\n",
       "      <th>tip_amount</th>\n",
       "      <th>tolls_amount</th>\n",
       "      <th>improvement_surcharge</th>\n",
       "      <th>total_amount</th>\n",
       "      <th>congestion_surcharge</th>\n",
       "    </tr>\n",
       "  </thead>\n",
       "  <tbody>\n",
       "    <tr>\n",
       "      <th>0</th>\n",
       "      <td>1.0</td>\n",
       "      <td>2020-01-01 00:28:15</td>\n",
       "      <td>2020-01-01 00:33:03</td>\n",
       "      <td>1.0</td>\n",
       "      <td>1.2</td>\n",
       "      <td>1.0</td>\n",
       "      <td>N</td>\n",
       "      <td>238</td>\n",
       "      <td>239</td>\n",
       "      <td>1.0</td>\n",
       "      <td>6.0</td>\n",
       "      <td>3.0</td>\n",
       "      <td>0.5</td>\n",
       "      <td>1.47</td>\n",
       "      <td>0.0</td>\n",
       "      <td>0.3</td>\n",
       "      <td>11.27</td>\n",
       "      <td>2.5</td>\n",
       "    </tr>\n",
       "    <tr>\n",
       "      <th>1</th>\n",
       "      <td>1.0</td>\n",
       "      <td>2020-01-01 00:35:39</td>\n",
       "      <td>2020-01-01 00:43:04</td>\n",
       "      <td>1.0</td>\n",
       "      <td>1.2</td>\n",
       "      <td>1.0</td>\n",
       "      <td>N</td>\n",
       "      <td>239</td>\n",
       "      <td>238</td>\n",
       "      <td>1.0</td>\n",
       "      <td>7.0</td>\n",
       "      <td>3.0</td>\n",
       "      <td>0.5</td>\n",
       "      <td>1.50</td>\n",
       "      <td>0.0</td>\n",
       "      <td>0.3</td>\n",
       "      <td>12.30</td>\n",
       "      <td>2.5</td>\n",
       "    </tr>\n",
       "    <tr>\n",
       "      <th>2</th>\n",
       "      <td>1.0</td>\n",
       "      <td>2020-01-01 00:47:41</td>\n",
       "      <td>2020-01-01 00:53:52</td>\n",
       "      <td>1.0</td>\n",
       "      <td>0.6</td>\n",
       "      <td>1.0</td>\n",
       "      <td>N</td>\n",
       "      <td>238</td>\n",
       "      <td>238</td>\n",
       "      <td>1.0</td>\n",
       "      <td>6.0</td>\n",
       "      <td>3.0</td>\n",
       "      <td>0.5</td>\n",
       "      <td>1.00</td>\n",
       "      <td>0.0</td>\n",
       "      <td>0.3</td>\n",
       "      <td>10.80</td>\n",
       "      <td>2.5</td>\n",
       "    </tr>\n",
       "    <tr>\n",
       "      <th>3</th>\n",
       "      <td>1.0</td>\n",
       "      <td>2020-01-01 00:55:23</td>\n",
       "      <td>2020-01-01 01:00:14</td>\n",
       "      <td>1.0</td>\n",
       "      <td>0.8</td>\n",
       "      <td>1.0</td>\n",
       "      <td>N</td>\n",
       "      <td>238</td>\n",
       "      <td>151</td>\n",
       "      <td>1.0</td>\n",
       "      <td>5.5</td>\n",
       "      <td>0.5</td>\n",
       "      <td>0.5</td>\n",
       "      <td>1.36</td>\n",
       "      <td>0.0</td>\n",
       "      <td>0.3</td>\n",
       "      <td>8.16</td>\n",
       "      <td>0.0</td>\n",
       "    </tr>\n",
       "    <tr>\n",
       "      <th>4</th>\n",
       "      <td>2.0</td>\n",
       "      <td>2020-01-01 00:01:58</td>\n",
       "      <td>2020-01-01 00:04:16</td>\n",
       "      <td>1.0</td>\n",
       "      <td>0.0</td>\n",
       "      <td>1.0</td>\n",
       "      <td>N</td>\n",
       "      <td>193</td>\n",
       "      <td>193</td>\n",
       "      <td>2.0</td>\n",
       "      <td>3.5</td>\n",
       "      <td>0.5</td>\n",
       "      <td>0.5</td>\n",
       "      <td>0.00</td>\n",
       "      <td>0.0</td>\n",
       "      <td>0.3</td>\n",
       "      <td>4.80</td>\n",
       "      <td>0.0</td>\n",
       "    </tr>\n",
       "  </tbody>\n",
       "</table>\n",
       "</div>"
      ],
      "text/plain": [
       "   VendorID tpep_pickup_datetime tpep_dropoff_datetime  passenger_count  \\\n",
       "0       1.0  2020-01-01 00:28:15   2020-01-01 00:33:03              1.0   \n",
       "1       1.0  2020-01-01 00:35:39   2020-01-01 00:43:04              1.0   \n",
       "2       1.0  2020-01-01 00:47:41   2020-01-01 00:53:52              1.0   \n",
       "3       1.0  2020-01-01 00:55:23   2020-01-01 01:00:14              1.0   \n",
       "4       2.0  2020-01-01 00:01:58   2020-01-01 00:04:16              1.0   \n",
       "\n",
       "   trip_distance  RatecodeID store_and_fwd_flag  PULocationID  DOLocationID  \\\n",
       "0            1.2         1.0                  N           238           239   \n",
       "1            1.2         1.0                  N           239           238   \n",
       "2            0.6         1.0                  N           238           238   \n",
       "3            0.8         1.0                  N           238           151   \n",
       "4            0.0         1.0                  N           193           193   \n",
       "\n",
       "   payment_type  fare_amount  extra  mta_tax  tip_amount  tolls_amount  \\\n",
       "0           1.0          6.0    3.0      0.5        1.47           0.0   \n",
       "1           1.0          7.0    3.0      0.5        1.50           0.0   \n",
       "2           1.0          6.0    3.0      0.5        1.00           0.0   \n",
       "3           1.0          5.5    0.5      0.5        1.36           0.0   \n",
       "4           2.0          3.5    0.5      0.5        0.00           0.0   \n",
       "\n",
       "   improvement_surcharge  total_amount  congestion_surcharge  \n",
       "0                    0.3         11.27                   2.5  \n",
       "1                    0.3         12.30                   2.5  \n",
       "2                    0.3         10.80                   2.5  \n",
       "3                    0.3          8.16                   0.0  \n",
       "4                    0.3          4.80                   0.0  "
      ]
     },
     "execution_count": 4,
     "metadata": {},
     "output_type": "execute_result"
    }
   ],
   "source": [
    "df.head(5)"
   ]
  },
  {
   "cell_type": "code",
   "execution_count": 5,
   "id": "fb0a6ab2-0fef-45de-bbb1-11aca8814d97",
   "metadata": {},
   "outputs": [
    {
     "name": "stdout",
     "output_type": "stream",
     "text": [
      "<class 'pandas.core.frame.DataFrame'>\n",
      "RangeIndex: 6405008 entries, 0 to 6405007\n",
      "Data columns (total 18 columns):\n",
      " #   Column                 Dtype  \n",
      "---  ------                 -----  \n",
      " 0   VendorID               float64\n",
      " 1   tpep_pickup_datetime   object \n",
      " 2   tpep_dropoff_datetime  object \n",
      " 3   passenger_count        float64\n",
      " 4   trip_distance          float64\n",
      " 5   RatecodeID             float64\n",
      " 6   store_and_fwd_flag     object \n",
      " 7   PULocationID           int64  \n",
      " 8   DOLocationID           int64  \n",
      " 9   payment_type           float64\n",
      " 10  fare_amount            float64\n",
      " 11  extra                  float64\n",
      " 12  mta_tax                float64\n",
      " 13  tip_amount             float64\n",
      " 14  tolls_amount           float64\n",
      " 15  improvement_surcharge  float64\n",
      " 16  total_amount           float64\n",
      " 17  congestion_surcharge   float64\n",
      "dtypes: float64(13), int64(2), object(3)\n",
      "memory usage: 879.6+ MB\n"
     ]
    }
   ],
   "source": [
    "df.info()"
   ]
  },
  {
   "cell_type": "code",
   "execution_count": 6,
   "id": "4f2e8f43-9928-457b-85a7-12d0aae8d4fb",
   "metadata": {},
   "outputs": [
    {
     "data": {
      "text/plain": [
       "Index(['VendorID', 'tpep_pickup_datetime', 'tpep_dropoff_datetime',\n",
       "       'passenger_count', 'trip_distance', 'RatecodeID', 'store_and_fwd_flag',\n",
       "       'PULocationID', 'DOLocationID', 'payment_type', 'fare_amount', 'extra',\n",
       "       'mta_tax', 'tip_amount', 'tolls_amount', 'improvement_surcharge',\n",
       "       'total_amount', 'congestion_surcharge'],\n",
       "      dtype='object')"
      ]
     },
     "execution_count": 6,
     "metadata": {},
     "output_type": "execute_result"
    }
   ],
   "source": [
    "df.columns"
   ]
  },
  {
   "cell_type": "code",
   "execution_count": 7,
   "id": "9e7f2342-b88c-4fce-a605-dce0748eb1a0",
   "metadata": {},
   "outputs": [],
   "source": [
    "df['date_trip'] = pd.to_datetime(df['tpep_pickup_datetime']).dt.date"
   ]
  },
  {
   "cell_type": "code",
   "execution_count": 8,
   "id": "e409d5dc-6734-41ea-b41f-5151785395f4",
   "metadata": {},
   "outputs": [
    {
     "data": {
      "text/html": [
       "<div>\n",
       "<style scoped>\n",
       "    .dataframe tbody tr th:only-of-type {\n",
       "        vertical-align: middle;\n",
       "    }\n",
       "\n",
       "    .dataframe tbody tr th {\n",
       "        vertical-align: top;\n",
       "    }\n",
       "\n",
       "    .dataframe thead th {\n",
       "        text-align: right;\n",
       "    }\n",
       "</style>\n",
       "<table border=\"1\" class=\"dataframe\">\n",
       "  <thead>\n",
       "    <tr style=\"text-align: right;\">\n",
       "      <th></th>\n",
       "      <th>VendorID</th>\n",
       "      <th>tpep_pickup_datetime</th>\n",
       "      <th>tpep_dropoff_datetime</th>\n",
       "      <th>passenger_count</th>\n",
       "      <th>trip_distance</th>\n",
       "      <th>RatecodeID</th>\n",
       "      <th>store_and_fwd_flag</th>\n",
       "      <th>PULocationID</th>\n",
       "      <th>DOLocationID</th>\n",
       "      <th>payment_type</th>\n",
       "      <th>fare_amount</th>\n",
       "      <th>extra</th>\n",
       "      <th>mta_tax</th>\n",
       "      <th>tip_amount</th>\n",
       "      <th>tolls_amount</th>\n",
       "      <th>improvement_surcharge</th>\n",
       "      <th>total_amount</th>\n",
       "      <th>congestion_surcharge</th>\n",
       "      <th>date_trip</th>\n",
       "    </tr>\n",
       "  </thead>\n",
       "  <tbody>\n",
       "    <tr>\n",
       "      <th>0</th>\n",
       "      <td>1.0</td>\n",
       "      <td>2020-01-01 00:28:15</td>\n",
       "      <td>2020-01-01 00:33:03</td>\n",
       "      <td>1.0</td>\n",
       "      <td>1.2</td>\n",
       "      <td>1.0</td>\n",
       "      <td>N</td>\n",
       "      <td>238</td>\n",
       "      <td>239</td>\n",
       "      <td>1.0</td>\n",
       "      <td>6.0</td>\n",
       "      <td>3.0</td>\n",
       "      <td>0.5</td>\n",
       "      <td>1.47</td>\n",
       "      <td>0.0</td>\n",
       "      <td>0.3</td>\n",
       "      <td>11.27</td>\n",
       "      <td>2.5</td>\n",
       "      <td>2020-01-01</td>\n",
       "    </tr>\n",
       "    <tr>\n",
       "      <th>1</th>\n",
       "      <td>1.0</td>\n",
       "      <td>2020-01-01 00:35:39</td>\n",
       "      <td>2020-01-01 00:43:04</td>\n",
       "      <td>1.0</td>\n",
       "      <td>1.2</td>\n",
       "      <td>1.0</td>\n",
       "      <td>N</td>\n",
       "      <td>239</td>\n",
       "      <td>238</td>\n",
       "      <td>1.0</td>\n",
       "      <td>7.0</td>\n",
       "      <td>3.0</td>\n",
       "      <td>0.5</td>\n",
       "      <td>1.50</td>\n",
       "      <td>0.0</td>\n",
       "      <td>0.3</td>\n",
       "      <td>12.30</td>\n",
       "      <td>2.5</td>\n",
       "      <td>2020-01-01</td>\n",
       "    </tr>\n",
       "    <tr>\n",
       "      <th>2</th>\n",
       "      <td>1.0</td>\n",
       "      <td>2020-01-01 00:47:41</td>\n",
       "      <td>2020-01-01 00:53:52</td>\n",
       "      <td>1.0</td>\n",
       "      <td>0.6</td>\n",
       "      <td>1.0</td>\n",
       "      <td>N</td>\n",
       "      <td>238</td>\n",
       "      <td>238</td>\n",
       "      <td>1.0</td>\n",
       "      <td>6.0</td>\n",
       "      <td>3.0</td>\n",
       "      <td>0.5</td>\n",
       "      <td>1.00</td>\n",
       "      <td>0.0</td>\n",
       "      <td>0.3</td>\n",
       "      <td>10.80</td>\n",
       "      <td>2.5</td>\n",
       "      <td>2020-01-01</td>\n",
       "    </tr>\n",
       "  </tbody>\n",
       "</table>\n",
       "</div>"
      ],
      "text/plain": [
       "   VendorID tpep_pickup_datetime tpep_dropoff_datetime  passenger_count  \\\n",
       "0       1.0  2020-01-01 00:28:15   2020-01-01 00:33:03              1.0   \n",
       "1       1.0  2020-01-01 00:35:39   2020-01-01 00:43:04              1.0   \n",
       "2       1.0  2020-01-01 00:47:41   2020-01-01 00:53:52              1.0   \n",
       "\n",
       "   trip_distance  RatecodeID store_and_fwd_flag  PULocationID  DOLocationID  \\\n",
       "0            1.2         1.0                  N           238           239   \n",
       "1            1.2         1.0                  N           239           238   \n",
       "2            0.6         1.0                  N           238           238   \n",
       "\n",
       "   payment_type  fare_amount  extra  mta_tax  tip_amount  tolls_amount  \\\n",
       "0           1.0          6.0    3.0      0.5        1.47           0.0   \n",
       "1           1.0          7.0    3.0      0.5        1.50           0.0   \n",
       "2           1.0          6.0    3.0      0.5        1.00           0.0   \n",
       "\n",
       "   improvement_surcharge  total_amount  congestion_surcharge   date_trip  \n",
       "0                    0.3         11.27                   2.5  2020-01-01  \n",
       "1                    0.3         12.30                   2.5  2020-01-01  \n",
       "2                    0.3         10.80                   2.5  2020-01-01  "
      ]
     },
     "execution_count": 8,
     "metadata": {},
     "output_type": "execute_result"
    }
   ],
   "source": [
    "df.head(3)"
   ]
  },
  {
   "cell_type": "code",
   "execution_count": null,
   "id": "b61c2d3f-0f09-4807-861a-e8ac40f5a7fd",
   "metadata": {},
   "outputs": [],
   "source": []
  },
  {
   "cell_type": "markdown",
   "id": "2540751a-2dc4-4bd1-9fce-f04e04cbab8f",
   "metadata": {},
   "source": [
    "### Анализ качества данных"
   ]
  },
  {
   "cell_type": "markdown",
   "id": "61c6ad17-f95f-4acd-a966-c353f9d405dd",
   "metadata": {},
   "source": [
    "**Качество данных**\n",
    "- период ограничиваем период январем 2020г\n",
    "- отрицательные суммы меняем знак \n",
    "- удалить пустые и нулевые по тотал сумме поездки, расстоянию и числу пассажиров\n",
    "- удалить поездки с длительностью менее 3-х минут\n",
    "- удалить поездки с расстоянием менее 0,5 км/миль\n",
    "- проверить и удалить дубликаты\n",
    "<!-- - удалить выбросы:\n",
    "    - ниже 5 и выше 95 перцентиля -->"
   ]
  },
  {
   "cell_type": "code",
   "execution_count": 9,
   "id": "8bd38256-85d2-438f-9b5a-bda9b41c04a5",
   "metadata": {},
   "outputs": [],
   "source": [
    "date_st = dt.date(2020,1,1)\n",
    "date_end = dt.date(2020,1,31)\n",
    "\n",
    "min_lim = pd.Timedelta(minutes=3)"
   ]
  },
  {
   "cell_type": "code",
   "execution_count": 10,
   "id": "a2100937-2e69-4c8a-90ed-359efea4eb63",
   "metadata": {},
   "outputs": [],
   "source": [
    "df['total_amount'] = np.where(df['total_amount'] < 0, \n",
    "                              -df['total_amount'], \n",
    "                              df['total_amount'])"
   ]
  },
  {
   "cell_type": "code",
   "execution_count": 11,
   "id": "ffd17c18-0cab-4813-8255-55673fc927d6",
   "metadata": {},
   "outputs": [],
   "source": [
    "df['trip_distance'] = np.where(df['trip_distance'] < 0, \n",
    "                              -df['trip_distance'], \n",
    "                              df['trip_distance'])"
   ]
  },
  {
   "cell_type": "code",
   "execution_count": 12,
   "id": "2e3c9832-7848-4315-bc7c-632317728f0f",
   "metadata": {},
   "outputs": [],
   "source": [
    "df['lenth_trip'] = pd.to_datetime(df['tpep_dropoff_datetime']) - pd.to_datetime(df['tpep_pickup_datetime'])"
   ]
  },
  {
   "cell_type": "code",
   "execution_count": 13,
   "id": "fab029f6-ebcf-4e8c-87f7-4d350d4420ba",
   "metadata": {},
   "outputs": [],
   "source": [
    "df = df.drop_duplicates()"
   ]
  },
  {
   "cell_type": "code",
   "execution_count": 14,
   "id": "7494e0e4-d00a-4953-8801-32b05d44d197",
   "metadata": {},
   "outputs": [],
   "source": [
    "df_corr = df.query('(date_trip >= @date_st) \\\n",
    "                & (date_trip <= @date_end)\\\n",
    "                & (total_amount > 0)\\\n",
    "                & (lenth_trip > @min_lim)\\\n",
    "                & (trip_distance > 0.5)'\n",
    "             )"
   ]
  },
  {
   "cell_type": "code",
   "execution_count": 15,
   "id": "fb30f9b5-ce26-4956-884f-b5589140929b",
   "metadata": {},
   "outputs": [
    {
     "name": "stderr",
     "output_type": "stream",
     "text": [
      "C:\\Users\\piggy\\AppData\\Local\\Temp/ipykernel_20104/1606028731.py:1: SettingWithCopyWarning: \n",
      "A value is trying to be set on a copy of a slice from a DataFrame\n",
      "\n",
      "See the caveats in the documentation: https://pandas.pydata.org/pandas-docs/stable/user_guide/indexing.html#returning-a-view-versus-a-copy\n",
      "  df_corr.dropna(subset=['total_amount', 'passenger_count','trip_distance'], inplace=True)\n"
     ]
    }
   ],
   "source": [
    "df_corr.dropna(subset=['total_amount', 'passenger_count','trip_distance'], inplace=True)"
   ]
  },
  {
   "cell_type": "code",
   "execution_count": null,
   "id": "d6d7295f-0e89-4d07-8274-e5d7da37a3a1",
   "metadata": {},
   "outputs": [],
   "source": []
  },
  {
   "cell_type": "markdown",
   "id": "e204fa36-3ffc-4f3e-85c7-8592591b93e3",
   "metadata": {},
   "source": [
    "группировка по числу пассажиров в поездке"
   ]
  },
  {
   "cell_type": "code",
   "execution_count": 16,
   "id": "46bfe945-b077-42af-8b34-4ac1adb91442",
   "metadata": {},
   "outputs": [],
   "source": [
    "def count_passengers(row):\n",
    "    row = row['passenger_count']\n",
    "    if row == 0:\n",
    "        return 'percentage_zero'\n",
    "    if row == 1:\n",
    "        return 'percentage_1p'\n",
    "    if row == 2:\n",
    "        return 'percentage_2p'\n",
    "    if row == 3:\n",
    "        return 'percentage_3p'\n",
    "    else:\n",
    "        return 'percentage_4p_plus'"
   ]
  },
  {
   "cell_type": "code",
   "execution_count": 17,
   "id": "5a079db9-a6be-4b8b-b73d-b6e6889e7800",
   "metadata": {},
   "outputs": [
    {
     "name": "stderr",
     "output_type": "stream",
     "text": [
      "C:\\Users\\piggy\\AppData\\Local\\Temp/ipykernel_20104/365501715.py:1: SettingWithCopyWarning: \n",
      "A value is trying to be set on a copy of a slice from a DataFrame.\n",
      "Try using .loc[row_indexer,col_indexer] = value instead\n",
      "\n",
      "See the caveats in the documentation: https://pandas.pydata.org/pandas-docs/stable/user_guide/indexing.html#returning-a-view-versus-a-copy\n",
      "  df_corr['cnt_pass'] = df_corr.apply(count_passengers, axis=1)\n"
     ]
    }
   ],
   "source": [
    "df_corr['cnt_pass'] = df_corr.apply(count_passengers, axis=1)"
   ]
  },
  {
   "cell_type": "markdown",
   "id": "254fcf53-0842-4873-9cf1-beac18f926b0",
   "metadata": {},
   "source": [
    "### Группировка по числу пассажиров согласно бизнес-требований"
   ]
  },
  {
   "cell_type": "code",
   "execution_count": 18,
   "id": "602b3d87-d86d-4540-bd39-2ff773f37f89",
   "metadata": {},
   "outputs": [],
   "source": [
    "df_group = pd.pivot_table(df_corr, \n",
    "                          index='date_trip', \n",
    "                          values='VendorID', \n",
    "                          columns='cnt_pass' , \n",
    "                          aggfunc='count')"
   ]
  },
  {
   "cell_type": "code",
   "execution_count": 19,
   "id": "93a13b93-7433-4856-b179-463fc75e198a",
   "metadata": {},
   "outputs": [
    {
     "data": {
      "text/html": [
       "<div>\n",
       "<style scoped>\n",
       "    .dataframe tbody tr th:only-of-type {\n",
       "        vertical-align: middle;\n",
       "    }\n",
       "\n",
       "    .dataframe tbody tr th {\n",
       "        vertical-align: top;\n",
       "    }\n",
       "\n",
       "    .dataframe thead th {\n",
       "        text-align: right;\n",
       "    }\n",
       "</style>\n",
       "<table border=\"1\" class=\"dataframe\">\n",
       "  <thead>\n",
       "    <tr style=\"text-align: right;\">\n",
       "      <th>cnt_pass</th>\n",
       "      <th>percentage_1p</th>\n",
       "      <th>percentage_2p</th>\n",
       "      <th>percentage_3p</th>\n",
       "      <th>percentage_4p_plus</th>\n",
       "      <th>percentage_zero</th>\n",
       "    </tr>\n",
       "    <tr>\n",
       "      <th>date_trip</th>\n",
       "      <th></th>\n",
       "      <th></th>\n",
       "      <th></th>\n",
       "      <th></th>\n",
       "      <th></th>\n",
       "    </tr>\n",
       "  </thead>\n",
       "  <tbody>\n",
       "    <tr>\n",
       "      <th>2020-01-01</th>\n",
       "      <td>97002</td>\n",
       "      <td>30105</td>\n",
       "      <td>8933</td>\n",
       "      <td>15147</td>\n",
       "      <td>2257</td>\n",
       "    </tr>\n",
       "    <tr>\n",
       "      <th>2020-01-02</th>\n",
       "      <td>100115</td>\n",
       "      <td>23704</td>\n",
       "      <td>7082</td>\n",
       "      <td>13096</td>\n",
       "      <td>2426</td>\n",
       "    </tr>\n",
       "    <tr>\n",
       "      <th>2020-01-03</th>\n",
       "      <td>113781</td>\n",
       "      <td>27408</td>\n",
       "      <td>7697</td>\n",
       "      <td>14276</td>\n",
       "      <td>2819</td>\n",
       "    </tr>\n",
       "  </tbody>\n",
       "</table>\n",
       "</div>"
      ],
      "text/plain": [
       "cnt_pass    percentage_1p  percentage_2p  percentage_3p  percentage_4p_plus  \\\n",
       "date_trip                                                                     \n",
       "2020-01-01          97002          30105           8933               15147   \n",
       "2020-01-02         100115          23704           7082               13096   \n",
       "2020-01-03         113781          27408           7697               14276   \n",
       "\n",
       "cnt_pass    percentage_zero  \n",
       "date_trip                    \n",
       "2020-01-01             2257  \n",
       "2020-01-02             2426  \n",
       "2020-01-03             2819  "
      ]
     },
     "execution_count": 19,
     "metadata": {},
     "output_type": "execute_result"
    }
   ],
   "source": [
    "df_group.head(3)"
   ]
  },
  {
   "cell_type": "code",
   "execution_count": 20,
   "id": "b9768772-2bae-4155-8082-cc74cb43fb81",
   "metadata": {},
   "outputs": [],
   "source": [
    "df_group_share = df_group.div(df_group.sum(axis=1), axis=0).round(2).reset_index().rename_axis(None, axis=1) "
   ]
  },
  {
   "cell_type": "code",
   "execution_count": 21,
   "id": "dac092ad-6186-41a8-aa6b-98e6265d3558",
   "metadata": {},
   "outputs": [
    {
     "data": {
      "text/html": [
       "<div>\n",
       "<style scoped>\n",
       "    .dataframe tbody tr th:only-of-type {\n",
       "        vertical-align: middle;\n",
       "    }\n",
       "\n",
       "    .dataframe tbody tr th {\n",
       "        vertical-align: top;\n",
       "    }\n",
       "\n",
       "    .dataframe thead th {\n",
       "        text-align: right;\n",
       "    }\n",
       "</style>\n",
       "<table border=\"1\" class=\"dataframe\">\n",
       "  <thead>\n",
       "    <tr style=\"text-align: right;\">\n",
       "      <th></th>\n",
       "      <th>date_trip</th>\n",
       "      <th>percentage_1p</th>\n",
       "      <th>percentage_2p</th>\n",
       "      <th>percentage_3p</th>\n",
       "      <th>percentage_4p_plus</th>\n",
       "      <th>percentage_zero</th>\n",
       "    </tr>\n",
       "  </thead>\n",
       "  <tbody>\n",
       "    <tr>\n",
       "      <th>0</th>\n",
       "      <td>2020-01-01</td>\n",
       "      <td>0.63</td>\n",
       "      <td>0.20</td>\n",
       "      <td>0.06</td>\n",
       "      <td>0.10</td>\n",
       "      <td>0.01</td>\n",
       "    </tr>\n",
       "    <tr>\n",
       "      <th>1</th>\n",
       "      <td>2020-01-02</td>\n",
       "      <td>0.68</td>\n",
       "      <td>0.16</td>\n",
       "      <td>0.05</td>\n",
       "      <td>0.09</td>\n",
       "      <td>0.02</td>\n",
       "    </tr>\n",
       "    <tr>\n",
       "      <th>2</th>\n",
       "      <td>2020-01-03</td>\n",
       "      <td>0.69</td>\n",
       "      <td>0.17</td>\n",
       "      <td>0.05</td>\n",
       "      <td>0.09</td>\n",
       "      <td>0.02</td>\n",
       "    </tr>\n",
       "  </tbody>\n",
       "</table>\n",
       "</div>"
      ],
      "text/plain": [
       "    date_trip  percentage_1p  percentage_2p  percentage_3p  \\\n",
       "0  2020-01-01           0.63           0.20           0.06   \n",
       "1  2020-01-02           0.68           0.16           0.05   \n",
       "2  2020-01-03           0.69           0.17           0.05   \n",
       "\n",
       "   percentage_4p_plus  percentage_zero  \n",
       "0                0.10             0.01  \n",
       "1                0.09             0.02  \n",
       "2                0.09             0.02  "
      ]
     },
     "execution_count": 21,
     "metadata": {},
     "output_type": "execute_result"
    }
   ],
   "source": [
    "df_group_share.head(3)"
   ]
  },
  {
   "cell_type": "code",
   "execution_count": 22,
   "id": "f1bf6ee1-9dee-4c7a-a965-e3950cf91d4f",
   "metadata": {},
   "outputs": [],
   "source": [
    "df_min_max = pd.pivot_table(df_corr, \n",
    "                            index='date_trip', \n",
    "                            values='total_amount', \n",
    "                            columns='cnt_pass' , \n",
    "                            aggfunc=['min', 'max']).reset_index()"
   ]
  },
  {
   "cell_type": "code",
   "execution_count": 23,
   "id": "3af5b1d2-50f9-4adf-9e2e-23e7e411134e",
   "metadata": {},
   "outputs": [
    {
     "data": {
      "text/html": [
       "<div>\n",
       "<style scoped>\n",
       "    .dataframe tbody tr th:only-of-type {\n",
       "        vertical-align: middle;\n",
       "    }\n",
       "\n",
       "    .dataframe tbody tr th {\n",
       "        vertical-align: top;\n",
       "    }\n",
       "\n",
       "    .dataframe thead tr th {\n",
       "        text-align: left;\n",
       "    }\n",
       "</style>\n",
       "<table border=\"1\" class=\"dataframe\">\n",
       "  <thead>\n",
       "    <tr>\n",
       "      <th></th>\n",
       "      <th>date_trip</th>\n",
       "      <th colspan=\"5\" halign=\"left\">min</th>\n",
       "      <th colspan=\"5\" halign=\"left\">max</th>\n",
       "    </tr>\n",
       "    <tr>\n",
       "      <th>cnt_pass</th>\n",
       "      <th></th>\n",
       "      <th>percentage_1p</th>\n",
       "      <th>percentage_2p</th>\n",
       "      <th>percentage_3p</th>\n",
       "      <th>percentage_4p_plus</th>\n",
       "      <th>percentage_zero</th>\n",
       "      <th>percentage_1p</th>\n",
       "      <th>percentage_2p</th>\n",
       "      <th>percentage_3p</th>\n",
       "      <th>percentage_4p_plus</th>\n",
       "      <th>percentage_zero</th>\n",
       "    </tr>\n",
       "  </thead>\n",
       "  <tbody>\n",
       "    <tr>\n",
       "      <th>0</th>\n",
       "      <td>2020-01-01</td>\n",
       "      <td>0.3</td>\n",
       "      <td>0.30</td>\n",
       "      <td>0.31</td>\n",
       "      <td>5.3</td>\n",
       "      <td>0.3</td>\n",
       "      <td>465.30</td>\n",
       "      <td>281.42</td>\n",
       "      <td>433.04</td>\n",
       "      <td>350.42</td>\n",
       "      <td>145.55</td>\n",
       "    </tr>\n",
       "    <tr>\n",
       "      <th>1</th>\n",
       "      <td>2020-01-02</td>\n",
       "      <td>0.3</td>\n",
       "      <td>0.30</td>\n",
       "      <td>0.30</td>\n",
       "      <td>4.8</td>\n",
       "      <td>5.3</td>\n",
       "      <td>390.96</td>\n",
       "      <td>210.65</td>\n",
       "      <td>215.54</td>\n",
       "      <td>352.30</td>\n",
       "      <td>162.42</td>\n",
       "    </tr>\n",
       "    <tr>\n",
       "      <th>2</th>\n",
       "      <td>2020-01-03</td>\n",
       "      <td>0.3</td>\n",
       "      <td>0.31</td>\n",
       "      <td>5.30</td>\n",
       "      <td>4.8</td>\n",
       "      <td>5.3</td>\n",
       "      <td>1242.30</td>\n",
       "      <td>370.30</td>\n",
       "      <td>409.59</td>\n",
       "      <td>215.30</td>\n",
       "      <td>187.42</td>\n",
       "    </tr>\n",
       "    <tr>\n",
       "      <th>3</th>\n",
       "      <td>2020-01-04</td>\n",
       "      <td>0.3</td>\n",
       "      <td>0.30</td>\n",
       "      <td>0.30</td>\n",
       "      <td>4.8</td>\n",
       "      <td>0.3</td>\n",
       "      <td>340.54</td>\n",
       "      <td>481.30</td>\n",
       "      <td>158.80</td>\n",
       "      <td>577.80</td>\n",
       "      <td>152.54</td>\n",
       "    </tr>\n",
       "    <tr>\n",
       "      <th>4</th>\n",
       "      <td>2020-01-05</td>\n",
       "      <td>0.3</td>\n",
       "      <td>0.30</td>\n",
       "      <td>0.31</td>\n",
       "      <td>5.3</td>\n",
       "      <td>5.3</td>\n",
       "      <td>596.42</td>\n",
       "      <td>344.29</td>\n",
       "      <td>333.34</td>\n",
       "      <td>255.42</td>\n",
       "      <td>435.42</td>\n",
       "    </tr>\n",
       "  </tbody>\n",
       "</table>\n",
       "</div>"
      ],
      "text/plain": [
       "           date_trip           min                              \\\n",
       "cnt_pass             percentage_1p percentage_2p percentage_3p   \n",
       "0         2020-01-01           0.3          0.30          0.31   \n",
       "1         2020-01-02           0.3          0.30          0.30   \n",
       "2         2020-01-03           0.3          0.31          5.30   \n",
       "3         2020-01-04           0.3          0.30          0.30   \n",
       "4         2020-01-05           0.3          0.30          0.31   \n",
       "\n",
       "                                                      max                \\\n",
       "cnt_pass percentage_4p_plus percentage_zero percentage_1p percentage_2p   \n",
       "0                       5.3             0.3        465.30        281.42   \n",
       "1                       4.8             5.3        390.96        210.65   \n",
       "2                       4.8             5.3       1242.30        370.30   \n",
       "3                       4.8             0.3        340.54        481.30   \n",
       "4                       5.3             5.3        596.42        344.29   \n",
       "\n",
       "                                                           \n",
       "cnt_pass percentage_3p percentage_4p_plus percentage_zero  \n",
       "0               433.04             350.42          145.55  \n",
       "1               215.54             352.30          162.42  \n",
       "2               409.59             215.30          187.42  \n",
       "3               158.80             577.80          152.54  \n",
       "4               333.34             255.42          435.42  "
      ]
     },
     "execution_count": 23,
     "metadata": {},
     "output_type": "execute_result"
    }
   ],
   "source": [
    "df_min_max.head(5)"
   ]
  },
  {
   "cell_type": "markdown",
   "id": "cb8f7b99-6ec9-4147-9f7a-f0eab74de240",
   "metadata": {},
   "source": [
    "### Формирование итогового DF (группровка, добавление минимальных и максимальных значений)"
   ]
  },
  {
   "cell_type": "code",
   "execution_count": 24,
   "id": "e9cf83ff-d74f-4f80-8b82-09d0bac42649",
   "metadata": {},
   "outputs": [
    {
     "name": "stderr",
     "output_type": "stream",
     "text": [
      "C:\\Users\\piggy\\AppData\\Local\\Temp/ipykernel_20104/457234710.py:1: FutureWarning: merging between different levels is deprecated and will be removed in a future version. (1 levels on the left, 2 on the right)\n",
      "  df_big = pd.merge(df_group_share, df_min_max, on='date_trip')\n",
      "C:\\Users\\piggy\\AppData\\Local\\Temp/ipykernel_20104/457234710.py:1: PerformanceWarning: dropping on a non-lexsorted multi-index without a level parameter may impact performance.\n",
      "  df_big = pd.merge(df_group_share, df_min_max, on='date_trip')\n"
     ]
    }
   ],
   "source": [
    "df_big = pd.merge(df_group_share, df_min_max, on='date_trip')"
   ]
  },
  {
   "cell_type": "code",
   "execution_count": 25,
   "id": "a69ff6e6-3061-4bb6-83f6-14593104c8ad",
   "metadata": {},
   "outputs": [
    {
     "data": {
      "text/html": [
       "<div>\n",
       "<style scoped>\n",
       "    .dataframe tbody tr th:only-of-type {\n",
       "        vertical-align: middle;\n",
       "    }\n",
       "\n",
       "    .dataframe tbody tr th {\n",
       "        vertical-align: top;\n",
       "    }\n",
       "\n",
       "    .dataframe thead th {\n",
       "        text-align: right;\n",
       "    }\n",
       "</style>\n",
       "<table border=\"1\" class=\"dataframe\">\n",
       "  <thead>\n",
       "    <tr style=\"text-align: right;\">\n",
       "      <th></th>\n",
       "      <th>date_trip</th>\n",
       "      <th>percentage_1p</th>\n",
       "      <th>percentage_2p</th>\n",
       "      <th>percentage_3p</th>\n",
       "      <th>percentage_4p_plus</th>\n",
       "      <th>percentage_zero</th>\n",
       "      <th>(min, percentage_1p)</th>\n",
       "      <th>(min, percentage_2p)</th>\n",
       "      <th>(min, percentage_3p)</th>\n",
       "      <th>(min, percentage_4p_plus)</th>\n",
       "      <th>(min, percentage_zero)</th>\n",
       "      <th>(max, percentage_1p)</th>\n",
       "      <th>(max, percentage_2p)</th>\n",
       "      <th>(max, percentage_3p)</th>\n",
       "      <th>(max, percentage_4p_plus)</th>\n",
       "      <th>(max, percentage_zero)</th>\n",
       "    </tr>\n",
       "  </thead>\n",
       "  <tbody>\n",
       "    <tr>\n",
       "      <th>0</th>\n",
       "      <td>2020-01-01</td>\n",
       "      <td>0.63</td>\n",
       "      <td>0.2</td>\n",
       "      <td>0.06</td>\n",
       "      <td>0.1</td>\n",
       "      <td>0.01</td>\n",
       "      <td>0.3</td>\n",
       "      <td>0.3</td>\n",
       "      <td>0.31</td>\n",
       "      <td>5.3</td>\n",
       "      <td>0.3</td>\n",
       "      <td>465.3</td>\n",
       "      <td>281.42</td>\n",
       "      <td>433.04</td>\n",
       "      <td>350.42</td>\n",
       "      <td>145.55</td>\n",
       "    </tr>\n",
       "  </tbody>\n",
       "</table>\n",
       "</div>"
      ],
      "text/plain": [
       "    date_trip  percentage_1p  percentage_2p  percentage_3p  \\\n",
       "0  2020-01-01           0.63            0.2           0.06   \n",
       "\n",
       "   percentage_4p_plus  percentage_zero  (min, percentage_1p)  \\\n",
       "0                 0.1             0.01                   0.3   \n",
       "\n",
       "   (min, percentage_2p)  (min, percentage_3p)  (min, percentage_4p_plus)  \\\n",
       "0                   0.3                  0.31                        5.3   \n",
       "\n",
       "   (min, percentage_zero)  (max, percentage_1p)  (max, percentage_2p)  \\\n",
       "0                     0.3                 465.3                281.42   \n",
       "\n",
       "   (max, percentage_3p)  (max, percentage_4p_plus)  (max, percentage_zero)  \n",
       "0                433.04                     350.42                  145.55  "
      ]
     },
     "execution_count": 25,
     "metadata": {},
     "output_type": "execute_result"
    }
   ],
   "source": [
    "df_big.head(1)"
   ]
  },
  {
   "cell_type": "code",
   "execution_count": 26,
   "id": "a3ba2a5f-8866-4860-89be-b91c6aa09774",
   "metadata": {},
   "outputs": [],
   "source": [
    "new_names = {('min', 'percentage_1p'):\"min_percentage_1p\",\n",
    " ('min', 'percentage_2p'):'min_percentage_2p',\n",
    " ('min', 'percentage_3p'): 'min_percentage_3p',\n",
    " ('min', 'percentage_4p_plus'):'min_percentage_4p_plus',\n",
    " ('min', 'percentage_zero'):'min_percentage_zero',   \n",
    " ('max', 'percentage_1p'): 'max_percentage_1p',\n",
    " ('max', 'percentage_2p'): 'max_percentage_2p', \n",
    " ('max', 'percentage_3p'): 'max_percentage_3p',\n",
    " ('max', 'percentage_4p_plus'): 'max_percentage_4p_plus',\n",
    " ('max', 'percentage_zero'):'max_percentage_zero'}"
   ]
  },
  {
   "cell_type": "code",
   "execution_count": 27,
   "id": "6440c03c-d2b0-45ce-8dc7-053fc0a8fbde",
   "metadata": {},
   "outputs": [],
   "source": [
    "df_big.rename(columns=new_names, inplace=True)"
   ]
  },
  {
   "cell_type": "markdown",
   "id": "3971113a-5f78-4614-a62b-76de687f65ab",
   "metadata": {},
   "source": [
    "### Выгрузка итоговых данных в parquet файл"
   ]
  },
  {
   "cell_type": "code",
   "execution_count": 28,
   "id": "fd428396-1ee6-4f06-a919-569f1d547458",
   "metadata": {},
   "outputs": [
    {
     "name": "stdout",
     "output_type": "stream",
     "text": [
      "Requirement already satisfied: pyarrow in d:\\piggy\\appdata\\local\\programs\\python\\python39\\lib\\site-packages (10.0.1)\n",
      "Requirement already satisfied: numpy>=1.16.6 in d:\\piggy\\appdata\\local\\programs\\python\\python39\\lib\\site-packages (from pyarrow) (1.20.3)\n"
     ]
    }
   ],
   "source": [
    "!pip install pyarrow"
   ]
  },
  {
   "cell_type": "code",
   "execution_count": 29,
   "id": "88cb923a-4798-43b8-8da0-3b81d888efe7",
   "metadata": {},
   "outputs": [],
   "source": [
    "df_big.to_parquet('./data/output_df.parquet')"
   ]
  },
  {
   "cell_type": "code",
   "execution_count": 37,
   "id": "ee04bc97-2e9d-430e-aff5-569e217d4066",
   "metadata": {},
   "outputs": [
    {
     "data": {
      "text/plain": [
       "Index(['date_trip', 'percentage_1p', 'percentage_2p', 'percentage_3p',\n",
       "       'percentage_4p_plus', 'percentage_zero', 'min_percentage_1p',\n",
       "       'min_percentage_2p', 'min_percentage_3p', 'min_percentage_4p_plus',\n",
       "       'min_percentage_zero', 'max_percentage_1p', 'max_percentage_2p',\n",
       "       'max_percentage_3p', 'max_percentage_4p_plus', 'max_percentage_zero'],\n",
       "      dtype='object')"
      ]
     },
     "execution_count": 37,
     "metadata": {},
     "output_type": "execute_result"
    }
   ],
   "source": [
    "df_big.columns"
   ]
  },
  {
   "cell_type": "markdown",
   "id": "c7b64ce7-7f73-47fc-b4e4-c7d6aa44a70c",
   "metadata": {},
   "source": [
    "### Проверка выгрузки из файла"
   ]
  },
  {
   "cell_type": "code",
   "execution_count": 30,
   "id": "d9d50704-658a-441c-9ad7-686d03f8e38c",
   "metadata": {},
   "outputs": [
    {
     "data": {
      "text/html": [
       "<div>\n",
       "<style scoped>\n",
       "    .dataframe tbody tr th:only-of-type {\n",
       "        vertical-align: middle;\n",
       "    }\n",
       "\n",
       "    .dataframe tbody tr th {\n",
       "        vertical-align: top;\n",
       "    }\n",
       "\n",
       "    .dataframe thead th {\n",
       "        text-align: right;\n",
       "    }\n",
       "</style>\n",
       "<table border=\"1\" class=\"dataframe\">\n",
       "  <thead>\n",
       "    <tr style=\"text-align: right;\">\n",
       "      <th></th>\n",
       "      <th>date_trip</th>\n",
       "      <th>percentage_1p</th>\n",
       "      <th>percentage_2p</th>\n",
       "      <th>percentage_3p</th>\n",
       "      <th>percentage_4p_plus</th>\n",
       "      <th>percentage_zero</th>\n",
       "      <th>min_percentage_1p</th>\n",
       "      <th>min_percentage_2p</th>\n",
       "      <th>min_percentage_3p</th>\n",
       "      <th>min_percentage_4p_plus</th>\n",
       "      <th>min_percentage_zero</th>\n",
       "      <th>max_percentage_1p</th>\n",
       "      <th>max_percentage_2p</th>\n",
       "      <th>max_percentage_3p</th>\n",
       "      <th>max_percentage_4p_plus</th>\n",
       "      <th>max_percentage_zero</th>\n",
       "    </tr>\n",
       "  </thead>\n",
       "  <tbody>\n",
       "    <tr>\n",
       "      <th>0</th>\n",
       "      <td>2020-01-01</td>\n",
       "      <td>0.63</td>\n",
       "      <td>0.20</td>\n",
       "      <td>0.06</td>\n",
       "      <td>0.10</td>\n",
       "      <td>0.01</td>\n",
       "      <td>0.3</td>\n",
       "      <td>0.3</td>\n",
       "      <td>0.31</td>\n",
       "      <td>5.3</td>\n",
       "      <td>0.3</td>\n",
       "      <td>465.30</td>\n",
       "      <td>281.42</td>\n",
       "      <td>433.04</td>\n",
       "      <td>350.42</td>\n",
       "      <td>145.55</td>\n",
       "    </tr>\n",
       "    <tr>\n",
       "      <th>1</th>\n",
       "      <td>2020-01-02</td>\n",
       "      <td>0.68</td>\n",
       "      <td>0.16</td>\n",
       "      <td>0.05</td>\n",
       "      <td>0.09</td>\n",
       "      <td>0.02</td>\n",
       "      <td>0.3</td>\n",
       "      <td>0.3</td>\n",
       "      <td>0.30</td>\n",
       "      <td>4.8</td>\n",
       "      <td>5.3</td>\n",
       "      <td>390.96</td>\n",
       "      <td>210.65</td>\n",
       "      <td>215.54</td>\n",
       "      <td>352.30</td>\n",
       "      <td>162.42</td>\n",
       "    </tr>\n",
       "  </tbody>\n",
       "</table>\n",
       "</div>"
      ],
      "text/plain": [
       "    date_trip  percentage_1p  percentage_2p  percentage_3p  \\\n",
       "0  2020-01-01           0.63           0.20           0.06   \n",
       "1  2020-01-02           0.68           0.16           0.05   \n",
       "\n",
       "   percentage_4p_plus  percentage_zero  min_percentage_1p  min_percentage_2p  \\\n",
       "0                0.10             0.01                0.3                0.3   \n",
       "1                0.09             0.02                0.3                0.3   \n",
       "\n",
       "   min_percentage_3p  min_percentage_4p_plus  min_percentage_zero  \\\n",
       "0               0.31                     5.3                  0.3   \n",
       "1               0.30                     4.8                  5.3   \n",
       "\n",
       "   max_percentage_1p  max_percentage_2p  max_percentage_3p  \\\n",
       "0             465.30             281.42             433.04   \n",
       "1             390.96             210.65             215.54   \n",
       "\n",
       "   max_percentage_4p_plus  max_percentage_zero  \n",
       "0                  350.42               145.55  \n",
       "1                  352.30               162.42  "
      ]
     },
     "execution_count": 30,
     "metadata": {},
     "output_type": "execute_result"
    }
   ],
   "source": [
    "df_read = pd.read_parquet('./data/output_df.parquet')  \n",
    "\n",
    "df_read.head(2)"
   ]
  },
  {
   "cell_type": "markdown",
   "id": "248e7a43-b22e-40ca-bc5f-e957cd2f333b",
   "metadata": {},
   "source": [
    "### Визуализация зависимости размера чаевых от количества пассажиров"
   ]
  },
  {
   "cell_type": "code",
   "execution_count": 31,
   "id": "09ea2f45-938f-4341-8237-14fabc3a2d23",
   "metadata": {
    "tags": []
   },
   "outputs": [
    {
     "data": {
      "image/png": "[encoded data removed]",
      "text/plain": [
       "<Figure size 1080x432 with 1 Axes>"
      ]
     },
     "metadata": {
      "needs_background": "light"
     },
     "output_type": "display_data"
    }
   ],
   "source": [
    "plt.figure(figsize=(15,6))\n",
    "sns.barplot(y='tip_amount', x='cnt_pass', data=df_corr)\n",
    "plt.title('Средний размер чаевых по числу пассажиров', size=20, c='b')\n",
    "plt.xlabel('Число пассажиров', size=14)\n",
    "plt.ylabel('Размер чаевых', size=14)\n",
    "plt.show()"
   ]
  },
  {
   "cell_type": "markdown",
   "id": "9e23d0be-3487-4e73-b401-3bc20605b385",
   "metadata": {},
   "source": [
    "Наибольший средний размер чаевых по поездкам с одним и двумя пассажирами."
   ]
  },
  {
   "cell_type": "code",
   "execution_count": null,
   "id": "347d77e1-2f2c-44c5-9a16-ffdd3ff85ee6",
   "metadata": {},
   "outputs": [],
   "source": []
  },
  {
   "cell_type": "code",
   "execution_count": null,
   "id": "1df49d06-dfba-47e1-b9f7-7d3168818424",
   "metadata": {},
   "outputs": [],
   "source": []
  },
  {
   "cell_type": "markdown",
   "id": "688d0c19-4445-4615-9e1f-3ee563b5bf2e",
   "metadata": {
    "tags": []
   },
   "source": [
    "### Визуализация зависимости размера чаевых от расстояния поездки"
   ]
  },
  {
   "cell_type": "code",
   "execution_count": 32,
   "id": "430766a5-b848-420c-901c-c0e89c10ba4a",
   "metadata": {},
   "outputs": [
    {
     "name": "stderr",
     "output_type": "stream",
     "text": [
      "C:\\Users\\piggy\\AppData\\Local\\Temp/ipykernel_20104/3920552708.py:1: SettingWithCopyWarning: \n",
      "A value is trying to be set on a copy of a slice from a DataFrame.\n",
      "Try using .loc[row_indexer,col_indexer] = value instead\n",
      "\n",
      "See the caveats in the documentation: https://pandas.pydata.org/pandas-docs/stable/user_guide/indexing.html#returning-a-view-versus-a-copy\n",
      "  df_corr['group_distance'] =  pd.cut(df_corr.trip_distance, 8, precision=1)\n"
     ]
    }
   ],
   "source": [
    "df_corr['group_distance'] =  pd.cut(df_corr.trip_distance, 8, precision=1)"
   ]
  },
  {
   "cell_type": "code",
   "execution_count": 33,
   "id": "bc868f36-843f-4487-b34b-4988f5bb2ed0",
   "metadata": {
    "tags": []
   },
   "outputs": [
    {
     "data": {
      "image/png": "[encoded data removed]",
      "text/plain": [
       "<Figure size 1080x432 with 1 Axes>"
      ]
     },
     "metadata": {
      "needs_background": "light"
     },
     "output_type": "display_data"
    }
   ],
   "source": [
    "plt.figure(figsize=(15,6))\n",
    "\n",
    "sns.barplot(y='tip_amount', x='group_distance', data=df_corr)\n",
    "plt.title('Средний размер чаевых по расстоянию поездки', size=20, c='g')\n",
    "plt.xlabel('Расстояние поездки', size=14)\n",
    "plt.ylabel('Размер чаевых', size=14)\n",
    "plt.xticks(rotation=-45)\n",
    "sns.lineplot(data=df_corr, \n",
    "             x=df_corr['group_distance'].astype('str'), \n",
    "             y= df_corr['tip_amount'].mean(), \n",
    "             color='r', \n",
    "             lw = 4,\n",
    "             linestyle='--'\n",
    "            )\n",
    "\n",
    "plt.show()"
   ]
  },
  {
   "cell_type": "markdown",
   "id": "69a90ed9-4dbf-477b-9e26-ca588b809530",
   "metadata": {},
   "source": [
    "Наибольший средний размер чаевых у поездок с дальностью 197-230 км/миль. Причем отчетливо заметна зависимость при увеличении дальности увеличивается средний размер чаевых. Однако часть групп представлена слишком малым числом поездок (менее 5), значения суммы чаевых в них отсутвуют.  \n",
    "Для наглядности добавлена линия средней суммы чаевых по всему DF, ее значение показывает, что основное влияние на среднюю у группы 0-33 км/миль. Ниже построены диаграммы распределения значений для подтверждения этого и выведены данные о количестве записей по каждой группе."
   ]
  },
  {
   "cell_type": "code",
   "execution_count": 34,
   "id": "de81b2bd-a9d5-42bf-a5e3-6ba3e54eb438",
   "metadata": {},
   "outputs": [
    {
     "data": {
      "text/plain": [
       "(0.2, 33.3]       5796115\n",
       "(33.3, 66.1]         1921\n",
       "(66.1, 98.9]           80\n",
       "(98.9, 131.7]          14\n",
       "(230.1, 262.9]          3\n",
       "(131.7, 164.5]          2\n",
       "(164.5, 197.3]          1\n",
       "(197.3, 230.1]          1\n",
       "Name: group_distance, dtype: int64"
      ]
     },
     "execution_count": 34,
     "metadata": {},
     "output_type": "execute_result"
    }
   ],
   "source": [
    "df_corr['group_distance'].astype('str').value_counts()"
   ]
  },
  {
   "cell_type": "code",
   "execution_count": 35,
   "id": "f50505d1-32cb-415d-99bb-43a47568b9ef",
   "metadata": {
    "tags": []
   },
   "outputs": [
    {
     "data": {
      "image/png": "[encoded data removed]",
      "text/plain": [
       "<Figure size 1080x432 with 1 Axes>"
      ]
     },
     "metadata": {
      "needs_background": "light"
     },
     "output_type": "display_data"
    }
   ],
   "source": [
    "plt.figure(figsize=(15,6))\n",
    "\n",
    "sns.boxplot(data=df_corr,\n",
    "            y='tip_amount', x='group_distance', \n",
    "            medianprops=dict(color=\"orange\", alpha=0.7, lw=3),\n",
    "            hue='group_distance',\n",
    "            dodge=False\n",
    "           )\n",
    "plt.title('Разброс среднего размера чаевых по расстоянию поездки', size=20, c='brown')\n",
    "plt.xlabel('Расстояние поездки', size=14)\n",
    "plt.ylabel('Размер чаевых', size=14)\n",
    "plt.xticks(rotation=-45)\n",
    "\n",
    "\n",
    "plt.show()"
   ]
  },
  {
   "cell_type": "code",
   "execution_count": null,
   "id": "f5cbc75c-399d-4c64-8bcf-8851f6d58519",
   "metadata": {},
   "outputs": [],
   "source": []
  }
 ],
 "metadata": {
  "kernelspec": {
   "display_name": "Python 3 (ipykernel)",
   "language": "python",
   "name": "python3"
  },
  "language_info": {
   "codemirror_mode": {
    "name": "ipython",
    "version": 3
   },
   "file_extension": ".py",
   "mimetype": "text/x-python",
   "name": "python",
   "nbconvert_exporter": "python",
   "pygments_lexer": "ipython3",
   "version": "3.9.5"
  },
  "toc-autonumbering": true
 },
 "nbformat": 4,
 "nbformat_minor": 5
}
